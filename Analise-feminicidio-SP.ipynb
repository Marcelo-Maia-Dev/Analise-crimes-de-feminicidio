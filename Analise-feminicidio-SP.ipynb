{
 "cells": [
  {
   "cell_type": "markdown",
   "id": "1b99f550",
   "metadata": {},
   "source": [
    "**SSP - TRANSPARÊNCIA**\n",
    "\n",
    "**CRIMES DE FEMINICIDIO NO ESTADO DE SÃO PAULO**\n",
    "\n",
    "Desde 1995, a Secretaria da Segurança Pública divulga de forma pioneira no Brasil os indicadores criminais trimestralmente no Diário oficial.\n",
    "\n",
    "Em decorrência da evolução da tecnologia e o amplo uso da internet, a partir de abril de 2011 esses dados passaram a ser divulgados em seu site mensalmente por região, município e unidade policial.\n",
    "\n",
    "Além desses dados, são apresentados estudos como o Perfil de Homicídio e o Perfil de Roubos além da produtividade policial."
   ]
  },
  {
   "cell_type": "code",
   "execution_count": 1,
   "id": "e686afe1",
   "metadata": {},
   "outputs": [],
   "source": [
    "# importar os pacotes necessarios\n",
    "import pandas as pd\n",
    "import matplotlib.pyplot as plt\n",
    "import seaborn as sns\n",
    "\n",
    "%matplotlib inline"
   ]
  },
  {
   "cell_type": "code",
   "execution_count": 2,
   "id": "6fc6e18b",
   "metadata": {
    "scrolled": true
   },
   "outputs": [
    {
     "ename": "SyntaxError",
     "evalue": "(unicode error) 'unicodeescape' codec can't decode bytes in position 2-3: truncated \\UXXXXXXXX escape (771484754.py, line 1)",
     "output_type": "error",
     "traceback": [
      "\u001b[1;36m  Cell \u001b[1;32mIn[2], line 1\u001b[1;36m\u001b[0m\n\u001b[1;33m    df = pd.read_excel(\"C:\\Users\\Maia\\Desktop\\MENTORIA\\python\\Feminicidio_2015_2022.csv\")\u001b[0m\n\u001b[1;37m                                                                                        ^\u001b[0m\n\u001b[1;31mSyntaxError\u001b[0m\u001b[1;31m:\u001b[0m (unicode error) 'unicodeescape' codec can't decode bytes in position 2-3: truncated \\UXXXXXXXX escape\n"
     ]
    }
   ],
   "source": [
    "df = pd.read_excel(\"C:\\Users\\Maia\\Desktop\\MENTORIA\\python\\Feminicidio_2015_2022.csv\")"
   ]
  }
 ],
 "metadata": {
  "kernelspec": {
   "display_name": "Python 3 (ipykernel)",
   "language": "python",
   "name": "python3"
  },
  "language_info": {
   "codemirror_mode": {
    "name": "ipython",
    "version": 3
   },
   "file_extension": ".py",
   "mimetype": "text/x-python",
   "name": "python",
   "nbconvert_exporter": "python",
   "pygments_lexer": "ipython3",
   "version": "3.11.2"
  }
 },
 "nbformat": 4,
 "nbformat_minor": 5
}
